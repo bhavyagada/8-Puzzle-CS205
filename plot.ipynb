{
 "cells": [
  {
   "cell_type": "code",
   "execution_count": 27,
   "metadata": {},
   "outputs": [],
   "source": [
    "import matplotlib.pyplot as plt"
   ]
  },
  {
   "cell_type": "code",
   "execution_count": 28,
   "metadata": {},
   "outputs": [
    {
     "name": "stdout",
     "output_type": "stream",
     "text": [
      "[1, 2, 3, 4, 5, 6, 7, 8, 9, 10, 11, 12, 13, 14, 15, 16, 17, 18, 19, 20, 21, 22, 23, 24]\n",
      "[1, 2, 3, 4, 5, 6, 7, 8, 9, 10, 11, 12, 13, 14, 15, 16, 17, 18, 19, 20, 21, 22]\n"
     ]
    }
   ],
   "source": [
    "x1 = [i for i in range(1, 25)]\n",
    "x2 = [i for i in range(1, 23)]\n",
    "print(x1)\n",
    "print(x2)\n"
   ]
  },
  {
   "cell_type": "code",
   "execution_count": 29,
   "metadata": {},
   "outputs": [
    {
     "name": "stdout",
     "output_type": "stream",
     "text": [
      "[2, 4, 8, 16, 20, 40, 66, 128, 164, 316, 456, 862, 1206, 2260, 3162, 5836, 7760, 13920, 17344, 29282, 33280, 51332, 52140, 71268] [2, 4, 8, 16, 20, 40, 66, 126, 161, 308, 439, 826, 1141, 2116, 2918, 5284, 6574, 5522, 2444, 746, 165, 37, 8, 2] [2, 4, 8, 16, 20, 40, 62, 111, 134, 195, 195, 254, 243, 230, 176, 151, 100, 65, 42, 24, 10, 4, 4, 4]\n",
      "[4, 8, 8, 16, 32, 64, 72, 144, 224, 432, 560, 1072, 1544, 2864, 3920, 7208, 9616, 17008, 20928, 34616, 38840, 59800] [4, 8, 8, 16, 32, 62, 74, 144, 222, 423, 558, 1058, 1496, 2739, 3405, 2802, 1175, 491, 110, 33, 5, 2] [4, 8, 8, 14, 25, 41, 45, 69, 84, 102, 88, 99, 73, 85, 70, 54, 39, 31, 8, 4, 4, 1]\n"
     ]
    }
   ],
   "source": [
    "example1 = [[0,7,2], [4,6,1], [3,5,8]]\n",
    "ucs = {1: 2, 2: 4, 3: 8, 4: 16, 5: 20, 6: 40, 7: 66, 8: 128, 9: 164, 10: 316, 11: 456, 12: 862, 13: 1206, 14: 2260, 15: 3162, 16: 5836, 17: 7760, 18: 13920, 19: 17344, 20: 29282, 21: 33280, 22: 51332, 23: 52140, 24: 71268}\n",
    "mts = {1: 2, 2: 4, 3: 8, 4: 16, 5: 20, 6: 40, 7: 66, 8: 126, 9: 161, 10: 308, 11: 439, 12: 826, 13: 1141, 14: 2116, 15: 2918, 16: 5284, 17: 6574, 18: 5522, 19: 2444, 20: 746, 21: 165, 22: 37, 23: 8, 24: 2}\n",
    "mds = {1: 2, 2: 4, 3: 8, 4: 16, 5: 20, 6: 40, 7: 62, 8: 111, 9: 134, 10: 195, 11: 195, 12: 254, 13: 243, 14: 230, 15: 176, 16: 151, 17: 100, 18: 65, 19: 42, 20: 24, 21: 10, 22: 4, 23: 4, 24: 4}\n",
    "\n",
    "y1ucs = list(ucs.values())\n",
    "y1mts = list(mts.values())\n",
    "y1mds = list(mds.values())\n",
    "\n",
    "example2 = [[8,7,1], [6,0,2], [5,4,3]]\n",
    "ucs = {1: 4, 2: 8, 3: 8, 4: 16, 5: 32, 6: 64, 7: 72, 8: 144, 9: 224, 10: 432, 11: 560, 12: 1072, 13: 1544, 14: 2864, 15: 3920, 16: 7208, 17: 9616, 18: 17008, 19: 20928, 20: 34616, 21: 38840, 22: 59800}\n",
    "mts = {1: 4, 2: 8, 3: 8, 4: 16, 5: 32, 6: 62, 7: 74, 8: 144, 9: 222, 10: 423, 11: 558, 12: 1058, 13: 1496, 14: 2739, 15: 3405, 16: 2802, 17: 1175, 18: 491, 19: 110, 20: 33, 21: 5, 22: 2}\n",
    "mds = {1: 4, 2: 8, 3: 8, 4: 14, 5: 25, 6: 41, 7: 45, 8: 69, 9: 84, 10: 102, 11: 88, 12: 99, 13: 73, 14: 85, 15: 70, 16: 54, 17: 39, 18: 31, 19: 8, 20: 4, 21: 4, 22: 1}\n",
    "\n",
    "y2ucs = list(ucs.values())\n",
    "y2mts = list(mts.values())\n",
    "y2mds = list(mds.values())\n",
    "\n",
    "print(y1ucs, y1mts, y1mds)\n",
    "print(y2ucs, y2mts, y2mds)"
   ]
  },
  {
   "cell_type": "code",
   "execution_count": 30,
   "metadata": {},
   "outputs": [
    {
     "ename": "ValueError",
     "evalue": "x and y must have same first dimension, but have shapes (3, 3) and (24,)",
     "output_type": "error",
     "traceback": [
      "\u001b[0;31m---------------------------------------------------------------------------\u001b[0m",
      "\u001b[0;31mValueError\u001b[0m                                Traceback (most recent call last)",
      "Cell \u001b[0;32mIn[30], line 1\u001b[0m\n\u001b[0;32m----> 1\u001b[0m plt\u001b[39m.\u001b[39;49mplot(example1, y1ucs)\n\u001b[1;32m      2\u001b[0m plt\u001b[39m.\u001b[39mplot(example1, y1mts)\n\u001b[1;32m      3\u001b[0m plt\u001b[39m.\u001b[39mplot(example1, y1mds)\n",
      "File \u001b[0;32m/opt/homebrew/lib/python3.11/site-packages/matplotlib/pyplot.py:2812\u001b[0m, in \u001b[0;36mplot\u001b[0;34m(scalex, scaley, data, *args, **kwargs)\u001b[0m\n\u001b[1;32m   2810\u001b[0m \u001b[39m@_copy_docstring_and_deprecators\u001b[39m(Axes\u001b[39m.\u001b[39mplot)\n\u001b[1;32m   2811\u001b[0m \u001b[39mdef\u001b[39;00m \u001b[39mplot\u001b[39m(\u001b[39m*\u001b[39margs, scalex\u001b[39m=\u001b[39m\u001b[39mTrue\u001b[39;00m, scaley\u001b[39m=\u001b[39m\u001b[39mTrue\u001b[39;00m, data\u001b[39m=\u001b[39m\u001b[39mNone\u001b[39;00m, \u001b[39m*\u001b[39m\u001b[39m*\u001b[39mkwargs):\n\u001b[0;32m-> 2812\u001b[0m     \u001b[39mreturn\u001b[39;00m gca()\u001b[39m.\u001b[39;49mplot(\n\u001b[1;32m   2813\u001b[0m         \u001b[39m*\u001b[39;49margs, scalex\u001b[39m=\u001b[39;49mscalex, scaley\u001b[39m=\u001b[39;49mscaley,\n\u001b[1;32m   2814\u001b[0m         \u001b[39m*\u001b[39;49m\u001b[39m*\u001b[39;49m({\u001b[39m\"\u001b[39;49m\u001b[39mdata\u001b[39;49m\u001b[39m\"\u001b[39;49m: data} \u001b[39mif\u001b[39;49;00m data \u001b[39mis\u001b[39;49;00m \u001b[39mnot\u001b[39;49;00m \u001b[39mNone\u001b[39;49;00m \u001b[39melse\u001b[39;49;00m {}), \u001b[39m*\u001b[39;49m\u001b[39m*\u001b[39;49mkwargs)\n",
      "File \u001b[0;32m/opt/homebrew/lib/python3.11/site-packages/matplotlib/axes/_axes.py:1688\u001b[0m, in \u001b[0;36mAxes.plot\u001b[0;34m(self, scalex, scaley, data, *args, **kwargs)\u001b[0m\n\u001b[1;32m   1445\u001b[0m \u001b[39m\u001b[39m\u001b[39m\"\"\"\u001b[39;00m\n\u001b[1;32m   1446\u001b[0m \u001b[39mPlot y versus x as lines and/or markers.\u001b[39;00m\n\u001b[1;32m   1447\u001b[0m \n\u001b[0;32m   (...)\u001b[0m\n\u001b[1;32m   1685\u001b[0m \u001b[39m(``'green'``) or hex strings (``'#008000'``).\u001b[39;00m\n\u001b[1;32m   1686\u001b[0m \u001b[39m\"\"\"\u001b[39;00m\n\u001b[1;32m   1687\u001b[0m kwargs \u001b[39m=\u001b[39m cbook\u001b[39m.\u001b[39mnormalize_kwargs(kwargs, mlines\u001b[39m.\u001b[39mLine2D)\n\u001b[0;32m-> 1688\u001b[0m lines \u001b[39m=\u001b[39m [\u001b[39m*\u001b[39m\u001b[39mself\u001b[39m\u001b[39m.\u001b[39m_get_lines(\u001b[39m*\u001b[39margs, data\u001b[39m=\u001b[39mdata, \u001b[39m*\u001b[39m\u001b[39m*\u001b[39mkwargs)]\n\u001b[1;32m   1689\u001b[0m \u001b[39mfor\u001b[39;00m line \u001b[39min\u001b[39;00m lines:\n\u001b[1;32m   1690\u001b[0m     \u001b[39mself\u001b[39m\u001b[39m.\u001b[39madd_line(line)\n",
      "File \u001b[0;32m/opt/homebrew/lib/python3.11/site-packages/matplotlib/axes/_base.py:311\u001b[0m, in \u001b[0;36m_process_plot_var_args.__call__\u001b[0;34m(self, data, *args, **kwargs)\u001b[0m\n\u001b[1;32m    309\u001b[0m     this \u001b[39m+\u001b[39m\u001b[39m=\u001b[39m args[\u001b[39m0\u001b[39m],\n\u001b[1;32m    310\u001b[0m     args \u001b[39m=\u001b[39m args[\u001b[39m1\u001b[39m:]\n\u001b[0;32m--> 311\u001b[0m \u001b[39myield from\u001b[39;00m \u001b[39mself\u001b[39;49m\u001b[39m.\u001b[39;49m_plot_args(\n\u001b[1;32m    312\u001b[0m     this, kwargs, ambiguous_fmt_datakey\u001b[39m=\u001b[39;49mambiguous_fmt_datakey)\n",
      "File \u001b[0;32m/opt/homebrew/lib/python3.11/site-packages/matplotlib/axes/_base.py:504\u001b[0m, in \u001b[0;36m_process_plot_var_args._plot_args\u001b[0;34m(self, tup, kwargs, return_kwargs, ambiguous_fmt_datakey)\u001b[0m\n\u001b[1;32m    501\u001b[0m     \u001b[39mself\u001b[39m\u001b[39m.\u001b[39maxes\u001b[39m.\u001b[39myaxis\u001b[39m.\u001b[39mupdate_units(y)\n\u001b[1;32m    503\u001b[0m \u001b[39mif\u001b[39;00m x\u001b[39m.\u001b[39mshape[\u001b[39m0\u001b[39m] \u001b[39m!=\u001b[39m y\u001b[39m.\u001b[39mshape[\u001b[39m0\u001b[39m]:\n\u001b[0;32m--> 504\u001b[0m     \u001b[39mraise\u001b[39;00m \u001b[39mValueError\u001b[39;00m(\u001b[39mf\u001b[39m\u001b[39m\"\u001b[39m\u001b[39mx and y must have same first dimension, but \u001b[39m\u001b[39m\"\u001b[39m\n\u001b[1;32m    505\u001b[0m                      \u001b[39mf\u001b[39m\u001b[39m\"\u001b[39m\u001b[39mhave shapes \u001b[39m\u001b[39m{\u001b[39;00mx\u001b[39m.\u001b[39mshape\u001b[39m}\u001b[39;00m\u001b[39m and \u001b[39m\u001b[39m{\u001b[39;00my\u001b[39m.\u001b[39mshape\u001b[39m}\u001b[39;00m\u001b[39m\"\u001b[39m)\n\u001b[1;32m    506\u001b[0m \u001b[39mif\u001b[39;00m x\u001b[39m.\u001b[39mndim \u001b[39m>\u001b[39m \u001b[39m2\u001b[39m \u001b[39mor\u001b[39;00m y\u001b[39m.\u001b[39mndim \u001b[39m>\u001b[39m \u001b[39m2\u001b[39m:\n\u001b[1;32m    507\u001b[0m     \u001b[39mraise\u001b[39;00m \u001b[39mValueError\u001b[39;00m(\u001b[39mf\u001b[39m\u001b[39m\"\u001b[39m\u001b[39mx and y can be no greater than 2D, but have \u001b[39m\u001b[39m\"\u001b[39m\n\u001b[1;32m    508\u001b[0m                      \u001b[39mf\u001b[39m\u001b[39m\"\u001b[39m\u001b[39mshapes \u001b[39m\u001b[39m{\u001b[39;00mx\u001b[39m.\u001b[39mshape\u001b[39m}\u001b[39;00m\u001b[39m and \u001b[39m\u001b[39m{\u001b[39;00my\u001b[39m.\u001b[39mshape\u001b[39m}\u001b[39;00m\u001b[39m\"\u001b[39m)\n",
      "\u001b[0;31mValueError\u001b[0m: x and y must have same first dimension, but have shapes (3, 3) and (24,)"
     ]
    },
    {
     "data": {
      "image/png": "[encoded data removed]",
      "text/plain": [
       "<Figure size 640x480 with 1 Axes>"
      ]
     },
     "metadata": {},
     "output_type": "display_data"
    }
   ],
   "source": [
    "plt.plot(example1, y1ucs)\n",
    "plt.plot(example1, y1mts)\n",
    "plt.plot(example1, y1mds)\n",
    "\n",
    "plt.xlabel('Depth')\n",
    "plt.ylabel('Node Expanded')\n",
    "plt.title('Depth vs Node Expanded')\n",
    "plt.legend(['Uniform Cost Search', 'A* with Misplaced Tiles', 'A* with Manhattan Distance'])\n",
    "plt.tight_layout()\n",
    "plt.show()\n",
    "\n",
    "plt.plot(example2, y2ucs)\n",
    "plt.plot(example2, y2mts)\n",
    "plt.plot(example2, y2mds)\n",
    "\n",
    "plt.xlabel('Depth')\n",
    "plt.ylabel('Node Expanded')\n",
    "plt.title('Depth vs Node Expanded')\n",
    "plt.legend(['Uniform Cost Search', 'A* with Misplaced Tiles', 'A* with Manhattan Distance'])\n",
    "plt.tight_layout()\n",
    "plt.show()"
   ]
  },
  {
   "cell_type": "code",
   "execution_count": null,
   "metadata": {},
   "outputs": [],
   "source": []
  }
 ],
 "metadata": {
  "kernelspec": {
   "display_name": "Python 3",
   "language": "python",
   "name": "python3"
  },
  "language_info": {
   "codemirror_mode": {
    "name": "ipython",
    "version": 3
   },
   "file_extension": ".py",
   "mimetype": "text/x-python",
   "name": "python",
   "nbconvert_exporter": "python",
   "pygments_lexer": "ipython3",
   "version": "3.11.3"
  },
  "orig_nbformat": 4
 },
 "nbformat": 4,
 "nbformat_minor": 2
}
